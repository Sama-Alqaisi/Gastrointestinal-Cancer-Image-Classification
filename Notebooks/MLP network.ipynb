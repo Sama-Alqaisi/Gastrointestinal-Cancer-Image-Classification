{
  "nbformat": 4,
  "nbformat_minor": 0,
  "metadata": {
    "colab": {
      "provenance": [],
      "collapsed_sections": [
        "0eSnRPRJ8O7M",
        "3gm3MDHdFmkM",
        "9rDl5cyk5jxa",
        "_vME3aST646o"
      ]
    },
    "kernelspec": {
      "name": "python3",
      "display_name": "Python 3"
    },
    "language_info": {
      "name": "python"
    }
  },
  "cells": [
    {
      "cell_type": "code",
      "source": [
        "from google.colab import drive\n",
        "drive.mount('/content/drive')"
      ],
      "metadata": {
        "colab": {
          "base_uri": "https://localhost:8080/"
        },
        "id": "3Wc4eKEI2vaZ",
        "outputId": "fc684509-5eee-41b8-809e-f67b5729f13c"
      },
      "execution_count": null,
      "outputs": [
        {
          "output_type": "stream",
          "name": "stdout",
          "text": [
            "Mounted at /content/drive\n"
          ]
        }
      ]
    },
    {
      "cell_type": "code",
      "source": [
        "import numpy as np\n",
        "import pandas as pd\n",
        "from sklearn.preprocessing import LabelEncoder\n",
        "from sklearn.preprocessing import MinMaxScaler\n",
        "from sklearn.model_selection import train_test_split\n",
        "from sklearn.preprocessing import StandardScaler\n",
        "import torch\n",
        "import torch.nn as nn\n",
        "import torch.optim as optim\n",
        "from sklearn.metrics import accuracy_score, precision_score, recall_score, f1_score"
      ],
      "metadata": {
        "id": "JdUTTauM1sWA"
      },
      "execution_count": null,
      "outputs": []
    },
    {
      "cell_type": "markdown",
      "source": [
        "### **Data**"
      ],
      "metadata": {
        "id": "0eSnRPRJ8O7M"
      }
    },
    {
      "cell_type": "code",
      "source": [
        "class Data:\n",
        "    def __init__(self, path):\n",
        "        self.path = path\n",
        "        self.X_train = None\n",
        "        self.y_train = None\n",
        "        self.X_test = None\n",
        "        self.y_test = None\n",
        "\n",
        "    def display(self):\n",
        "        df = pd.read_csv(self.path)\n",
        "        print(df.info())\n",
        "\n",
        "    def LoadProcess(self):\n",
        "        # Load data from CSV file\n",
        "        df = pd.read_csv(self.path)\n",
        "        df['diagnosis'] = df['diagnosis'].replace('M', 1)\n",
        "        df['diagnosis'] = df['diagnosis'].replace(\"B\", 0)\n",
        "\n",
        "        # Assume that the last column is the target variable\n",
        "        X = df.drop(columns=['id', 'diagnosis'])\n",
        "        y = df['diagnosis']\n",
        "\n",
        "        # Standardize the features\n",
        "        scaler = StandardScaler()\n",
        "        X = scaler.fit_transform(X)\n",
        "\n",
        "        # Convert NumPy arrays to PyTorch tensors\n",
        "        X_tensor = torch.FloatTensor(X)\n",
        "        y_tensor = torch.LongTensor(y)  # Use LongTensor for classification\n",
        "\n",
        "         # Split the data into training and testing sets\n",
        "        self.X_train, X_temp, self.y_train, y_temp = train_test_split(X_tensor, y_tensor, test_size=0.2, random_state=42)\n",
        "        print(\"X_train:\", len(self.X_train))\n",
        "        print(\"X_temp (initial test set):\", len(X_temp))\n",
        "\n",
        "        # Split the initial test set into test and validation sets\n",
        "        self.X_test, self.X_val, self.y_test, self.y_val = train_test_split(X_temp, y_temp, test_size=0.5, random_state=42)\n",
        "        print(\"X_test:\", len(self.X_test))\n",
        "        print(\"X_val:\", len(self.X_val))\n",
        "\n",
        "\n",
        "dataset_class = Data('/content/drive/MyDrive/breast-cancer.csv')\n",
        "dataset_class.display()\n",
        "dataset_class.LoadProcess()"
      ],
      "metadata": {
        "id": "PTbVCwFnv15Z",
        "colab": {
          "base_uri": "https://localhost:8080/"
        },
        "outputId": "8a12fa31-3684-416c-e9f5-0c11bc26df37"
      },
      "execution_count": null,
      "outputs": [
        {
          "output_type": "stream",
          "name": "stdout",
          "text": [
            "<class 'pandas.core.frame.DataFrame'>\n",
            "RangeIndex: 569 entries, 0 to 568\n",
            "Data columns (total 32 columns):\n",
            " #   Column                   Non-Null Count  Dtype  \n",
            "---  ------                   --------------  -----  \n",
            " 0   id                       569 non-null    int64  \n",
            " 1   diagnosis                569 non-null    object \n",
            " 2   radius_mean              569 non-null    float64\n",
            " 3   texture_mean             569 non-null    float64\n",
            " 4   perimeter_mean           569 non-null    float64\n",
            " 5   area_mean                569 non-null    float64\n",
            " 6   smoothness_mean          569 non-null    float64\n",
            " 7   compactness_mean         569 non-null    float64\n",
            " 8   concavity_mean           569 non-null    float64\n",
            " 9   concave points_mean      569 non-null    float64\n",
            " 10  symmetry_mean            569 non-null    float64\n",
            " 11  fractal_dimension_mean   569 non-null    float64\n",
            " 12  radius_se                569 non-null    float64\n",
            " 13  texture_se               569 non-null    float64\n",
            " 14  perimeter_se             569 non-null    float64\n",
            " 15  area_se                  569 non-null    float64\n",
            " 16  smoothness_se            569 non-null    float64\n",
            " 17  compactness_se           569 non-null    float64\n",
            " 18  concavity_se             569 non-null    float64\n",
            " 19  concave points_se        569 non-null    float64\n",
            " 20  symmetry_se              569 non-null    float64\n",
            " 21  fractal_dimension_se     569 non-null    float64\n",
            " 22  radius_worst             569 non-null    float64\n",
            " 23  texture_worst            569 non-null    float64\n",
            " 24  perimeter_worst          569 non-null    float64\n",
            " 25  area_worst               569 non-null    float64\n",
            " 26  smoothness_worst         569 non-null    float64\n",
            " 27  compactness_worst        569 non-null    float64\n",
            " 28  concavity_worst          569 non-null    float64\n",
            " 29  concave points_worst     569 non-null    float64\n",
            " 30  symmetry_worst           569 non-null    float64\n",
            " 31  fractal_dimension_worst  569 non-null    float64\n",
            "dtypes: float64(30), int64(1), object(1)\n",
            "memory usage: 142.4+ KB\n",
            "None\n",
            "X_train: 455\n",
            "X_temp (initial test set): 114\n",
            "X_test: 57\n",
            "X_val: 57\n"
          ]
        }
      ]
    },
    {
      "cell_type": "markdown",
      "metadata": {
        "id": "3gm3MDHdFmkM"
      },
      "source": [
        "# **implementation of MLP network from scratch On validation Set**"
      ]
    },
    {
      "cell_type": "markdown",
      "source": [
        "First validation (hidden_dims = [10, 5],num_epochs=5000,lr=0.01)"
      ],
      "metadata": {
        "id": "yiPW0O554xEf"
      }
    },
    {
      "cell_type": "code",
      "source": [
        "import matplotlib.pyplot as plt\n",
        "\n",
        "class LinearClassification:\n",
        "    def __init__(self, input_dim, hidden_dims, output_dim, seed=500):\n",
        "        torch.manual_seed(seed)\n",
        "\n",
        "        self.weights_input_to_hidden1 = torch.randn(input_dim, hidden_dims[0], requires_grad=True)\n",
        "        self.bias_hidden1 = torch.zeros(hidden_dims[0], requires_grad=True)\n",
        "\n",
        "        self.weights_hidden1_to_hidden2 = torch.randn(hidden_dims[0], hidden_dims[1], requires_grad=True)\n",
        "        self.bias_hidden2 = torch.zeros(hidden_dims[1], requires_grad=True)\n",
        "\n",
        "        self.weights_hidden_to_output = torch.randn(hidden_dims[1], output_dim, requires_grad=True)\n",
        "        self.bias_output = torch.zeros(output_dim, requires_grad=True)\n",
        "\n",
        "        self.Parameters = [self.weights_input_to_hidden1, self.bias_hidden1,\n",
        "                           self.weights_hidden1_to_hidden2, self.bias_hidden2,\n",
        "                           self.weights_hidden_to_output, self.bias_output]\n",
        "\n",
        "    def softmax(self, logits):\n",
        "        exp_logits = torch.exp(logits)\n",
        "        sum_exp_logits = torch.sum(exp_logits, dim=1, keepdim=True)\n",
        "        return exp_logits / sum_exp_logits\n",
        "\n",
        "    def relu(self, x):\n",
        "        return torch.max(torch.zeros_like(x), x)\n",
        "\n",
        "    def cross_entropy_loss(self, y_true, y_pred):\n",
        "        y_true = y_true.long()\n",
        "\n",
        "        log_probs = torch.log(self.softmax(y_pred))\n",
        "        true_class_log_probs = log_probs.gather(1, y_true.view(-1, 1))\n",
        "        loss = -true_class_log_probs.mean()\n",
        "\n",
        "        pred_labels = torch.argmax(y_pred, dim=1)\n",
        "\n",
        "        return loss, pred_labels\n",
        "\n",
        "    def Forward_propagation(self, X):\n",
        "        h1 = self.relu(X @ self.weights_input_to_hidden1 + self.bias_hidden1)\n",
        "        h2 = self.relu(h1 @ self.weights_hidden1_to_hidden2 + self.bias_hidden2)\n",
        "        return self.softmax(h2 @ self.weights_hidden_to_output + self.bias_output)\n",
        "\n",
        "    def Backward_propagation(self, X, y, lr=0.01):\n",
        "        pred = self.Forward_propagation(X)\n",
        "        loss, pred_labels = self.cross_entropy_loss(y.long(), pred)\n",
        "        loss.backward()\n",
        "\n",
        "        with torch.no_grad():\n",
        "            for param in self.Parameters:\n",
        "                param -= lr * param.grad\n",
        "\n",
        "                param.grad.zero_()\n",
        "\n",
        "        return loss.item(), pred_labels\n",
        "\n",
        "    def train(self, X_train, y_train, X_test, y_test, num_epochs=5000):\n",
        "        train_losses = []\n",
        "        train_accuracies = []\n",
        "        val_accuracies = []\n",
        "\n",
        "        for epoch in range(num_epochs):\n",
        "            train_loss, pred_labels = self.Backward_propagation(X_train, y_train)\n",
        "            _, val_pred_labels = self.cross_entropy_loss(y_test.long(), self.Forward_propagation(X_test))\n",
        "\n",
        "            train_accuracy = accuracy_score(y_train.numpy(), pred_labels.numpy())\n",
        "            val_accuracy = accuracy_score(y_test.numpy(), val_pred_labels.numpy())\n",
        "\n",
        "            train_losses.append(train_loss)\n",
        "            train_accuracies.append(train_accuracy)\n",
        "            val_accuracies.append(val_accuracy)\n",
        "\n",
        "            if (epoch + 1) % 1000 == 0:\n",
        "                print(f'Epoch {epoch + 1}/{num_epochs}], Train Loss: {train_loss:.4f}, Train Accuracy: {train_accuracy:.4f}, Val Accuracy: {val_accuracy:.4f}')\n",
        "        # Print the final train accuracy\n",
        "        final_train_accuracy = train_accuracies[-1]\n",
        "        print(f'Final Train Accuracy: {final_train_accuracy:.4f}')\n",
        "\n",
        "        #learning curve\n",
        "        plt.figure(figsize=(10, 5))\n",
        "        plt.plot(range(1, num_epochs + 1), train_accuracies, label='Training Accuracy', color='pink')\n",
        "        plt.plot(range(1, num_epochs + 1), val_accuracies, label='Validation Accuracy', color='lightblue')\n",
        "        plt.xlabel('Epochs')\n",
        "        plt.ylabel('Accuracy')\n",
        "        plt.title('Learning Curve')\n",
        "        plt.legend()\n",
        "        plt.grid(True)\n",
        "        plt.show()\n",
        "\n",
        "    def test(self, X_test, y_test):\n",
        "        predictions = self.Forward_propagation(X_test)\n",
        "        loss, pred_labels = self.cross_entropy_loss(y_test, predictions)\n",
        "        accuracy = accuracy_score(y_test.numpy(), pred_labels.numpy())\n",
        "        return accuracy\n",
        "\n",
        "input_dim = dataset_class.X_train.shape[1]\n",
        "output_dim = 2\n",
        "hidden_dims = [10, 5]\n",
        "model = LinearClassification(input_dim, hidden_dims, output_dim)\n",
        "\n",
        "model.train(dataset_class.X_train, dataset_class.y_train, dataset_class.X_val, dataset_class.y_val)\n",
        "test_accuracy = model.test(dataset_class.X_val, dataset_class.y_val)\n",
        "print(f'Test Accuracy: {test_accuracy:.4f}')\n"
      ],
      "metadata": {
        "colab": {
          "base_uri": "https://localhost:8080/"
        },
        "id": "mZFBApGlIXwW",
        "outputId": "8e94a18d-2836-4108-99f1-e556d7ea93cc"
      },
      "execution_count": null,
      "outputs": [
        {
          "output_type": "stream",
          "name": "stdout",
          "text": [
            "Epoch 1000/5000], Train Loss: 0.5528, Train Accuracy: 0.7868, Val Accuracy: 0.8421\n",
            "Epoch 2000/5000], Train Loss: 0.4983, Train Accuracy: 0.8374, Val Accuracy: 0.8772\n",
            "Epoch 3000/5000], Train Loss: 0.4671, Train Accuracy: 0.8593, Val Accuracy: 0.8772\n",
            "Epoch 4000/5000], Train Loss: 0.4165, Train Accuracy: 0.9055, Val Accuracy: 0.9123\n",
            "Epoch 5000/5000], Train Loss: 0.3999, Train Accuracy: 0.9187, Val Accuracy: 0.9123\n",
            "Final Train Accuracy: 0.9187\n"
          ]
        },
        {
          "output_type": "display_data",
          "data": {
            "text/plain": [
              "<Figure size 1000x500 with 1 Axes>"
            ],
            "image/png": "[encoded data removed]"
          },
          "metadata": {}
        },
        {
          "output_type": "stream",
          "name": "stdout",
          "text": [
            "Test Accuracy: 0.9123\n"
          ]
        }
      ]
    },
    {
      "cell_type": "markdown",
      "source": [
        "Second validation (hidden_dims = [10, 5],num_epochs=500,lr=0.0001)"
      ],
      "metadata": {
        "id": "ClFA_rJ7bt-4"
      }
    },
    {
      "cell_type": "code",
      "source": [
        "from sklearn.metrics import accuracy_score\n",
        "import numpy as np\n",
        "\n",
        "class LinearClassification:\n",
        "    def __init__(self, input_dim, hidden_dims, output_dim, seed=500):\n",
        "        torch.manual_seed(seed)\n",
        "\n",
        "        self.weights_input_to_hidden1 = torch.randn(input_dim, hidden_dims[0], requires_grad=True)\n",
        "        self.bias_hidden1 = torch.zeros(hidden_dims[0], requires_grad=True)\n",
        "\n",
        "        self.weights_hidden1_to_hidden2 = torch.randn(hidden_dims[0], hidden_dims[1], requires_grad=True)\n",
        "        self.bias_hidden2 = torch.zeros(hidden_dims[1], requires_grad=True)\n",
        "\n",
        "        self.weights_hidden_to_output = torch.randn(hidden_dims[1], output_dim, requires_grad=True)\n",
        "        self.bias_output = torch.zeros(output_dim, requires_grad=True)\n",
        "\n",
        "        self.Parameters = [self.weights_input_to_hidden1, self.bias_hidden1,\n",
        "                           self.weights_hidden1_to_hidden2, self.bias_hidden2,\n",
        "                           self.weights_hidden_to_output, self.bias_output]\n",
        "\n",
        "    def softmax(self, logits):\n",
        "        exp_logits = torch.exp(logits)\n",
        "        sum_exp_logits = torch.sum(exp_logits, dim=1, keepdim=True)\n",
        "        return exp_logits / sum_exp_logits\n",
        "\n",
        "    def relu(self, x):\n",
        "        return torch.max(torch.zeros_like(x), x)\n",
        "\n",
        "    def cross_entropy_loss(self, y_true, y_pred):\n",
        "        y_true = y_true.long()\n",
        "\n",
        "        log_probs = torch.log(self.softmax(y_pred))\n",
        "        true_class_log_probs = log_probs.gather(1, y_true.view(-1, 1))\n",
        "        loss = -true_class_log_probs.mean()\n",
        "\n",
        "        pred_labels = torch.argmax(y_pred, dim=1)\n",
        "\n",
        "        return loss, pred_labels\n",
        "\n",
        "    def Forward_propagation(self, X):\n",
        "        h1 = self.relu(X @ self.weights_input_to_hidden1 + self.bias_hidden1)\n",
        "        h2 = self.relu(h1 @ self.weights_hidden1_to_hidden2 + self.bias_hidden2)\n",
        "        return self.softmax(h2 @ self.weights_hidden_to_output + self.bias_output)\n",
        "\n",
        "    def Backward_propagation(self, X, y, lr=0.0001):\n",
        "        pred = self.Forward_propagation(X)\n",
        "        loss, pred_labels = self.cross_entropy_loss(y.long(), pred)\n",
        "        loss.backward()\n",
        "\n",
        "        with torch.no_grad():\n",
        "            for param in self.Parameters:\n",
        "                param -= lr * param.grad\n",
        "\n",
        "                param.grad.zero_()\n",
        "\n",
        "        return loss.item(), pred_labels\n",
        "\n",
        "    def train(self, X_train, y_train, X_test, y_test, num_epochs=5000):\n",
        "        train_losses = []\n",
        "        train_accuracies = []\n",
        "        val_accuracies = []\n",
        "\n",
        "        for epoch in range(num_epochs):\n",
        "            train_loss, pred_labels = self.Backward_propagation(X_train, y_train)\n",
        "            _, val_pred_labels = self.cross_entropy_loss(y_test.long(), self.Forward_propagation(X_test))\n",
        "\n",
        "            train_accuracy = accuracy_score(y_train.numpy(), pred_labels.numpy())\n",
        "            val_accuracy = accuracy_score(y_test.numpy(), val_pred_labels.numpy())\n",
        "\n",
        "            train_losses.append(train_loss)\n",
        "            train_accuracies.append(train_accuracy)\n",
        "            val_accuracies.append(val_accuracy)\n",
        "\n",
        "            if (epoch + 1) % 1000 == 0:\n",
        "                print(f'Epoch {epoch + 1}/{num_epochs}], Train Loss: {train_loss:.4f}, Train Accuracy: {train_accuracy:.4f}, Val Accuracy: {val_accuracy:.4f}')\n",
        "        # Print the final train accuracy\n",
        "        final_train_accuracy = train_accuracies[-1]\n",
        "        print(f'Final Train Accuracy: {final_train_accuracy:.4f}')\n",
        "\n",
        "    def test(self, X_test, y_test):\n",
        "        predictions = self.Forward_propagation(X_test)\n",
        "        loss, pred_labels = self.cross_entropy_loss(y_test, predictions)\n",
        "        accuracy = accuracy_score(y_test.numpy(), pred_labels.numpy())\n",
        "        return accuracy\n",
        "\n",
        "input_dim = dataset_class.X_train.shape[1]\n",
        "output_dim = 2\n",
        "hidden_dims = [10, 5]\n",
        "model = LinearClassification(input_dim, hidden_dims, output_dim)\n",
        "\n",
        "model.train(dataset_class.X_train, dataset_class.y_train, dataset_class.X_val, dataset_class.y_val)\n",
        "test_accuracy = model.test(dataset_class.X_val, dataset_class.y_val)\n",
        "print(f'Test Accuracy: {test_accuracy:.4f}')\n"
      ],
      "metadata": {
        "colab": {
          "base_uri": "https://localhost:8080/"
        },
        "outputId": "3e29962a-2651-4907-9105-070e77269b39",
        "id": "WYGhhTfmbxvm"
      },
      "execution_count": null,
      "outputs": [
        {
          "output_type": "stream",
          "name": "stdout",
          "text": [
            "Epoch 1000/5000], Train Loss: 0.9478, Train Accuracy: 0.3407, Val Accuracy: 0.2456\n",
            "Epoch 2000/5000], Train Loss: 0.9412, Train Accuracy: 0.3451, Val Accuracy: 0.2456\n",
            "Epoch 3000/5000], Train Loss: 0.9326, Train Accuracy: 0.3538, Val Accuracy: 0.2456\n",
            "Epoch 4000/5000], Train Loss: 0.9200, Train Accuracy: 0.3648, Val Accuracy: 0.2807\n",
            "Epoch 5000/5000], Train Loss: 0.9047, Train Accuracy: 0.3890, Val Accuracy: 0.2807\n",
            "Final Train Accuracy: 0.3890\n",
            "Test Accuracy: 0.2807\n"
          ]
        }
      ]
    },
    {
      "cell_type": "markdown",
      "source": [
        "Third validation (hidden_dims = [10,5, 2],num_epochs=5000,lr=0.001)"
      ],
      "metadata": {
        "id": "YjICI2neeUzx"
      }
    },
    {
      "cell_type": "code",
      "source": [
        "import torch\n",
        "import torch.nn.functional as F\n",
        "from sklearn.metrics import accuracy_score\n",
        "\n",
        "class LinearClassification:\n",
        "    def __init__(self, input_dim, hidden_dims, output_dim, seed=500):\n",
        "        torch.manual_seed(seed)\n",
        "\n",
        "        # Initialize weights and biases for the layers\n",
        "        self.weights_input_to_hidden1 = torch.randn(input_dim, hidden_dims[0], requires_grad=True)\n",
        "        self.bias_hidden1 = torch.zeros(hidden_dims[0], requires_grad=True)\n",
        "\n",
        "        self.weights_hidden1_to_hidden2 = torch.randn(hidden_dims[0], hidden_dims[1], requires_grad=True)\n",
        "        self.bias_hidden2 = torch.zeros(hidden_dims[1], requires_grad=True)\n",
        "\n",
        "        self.weights_hidden2_to_hidden3 = torch.randn(hidden_dims[1], hidden_dims[2], requires_grad=True)\n",
        "        self.bias_hidden3 = torch.zeros(hidden_dims[2], requires_grad=True)\n",
        "\n",
        "        self.weights_hidden_to_output = torch.randn(hidden_dims[2], output_dim, requires_grad=True)\n",
        "        self.bias_output = torch.zeros(output_dim, requires_grad=True)\n",
        "\n",
        "        self.Parameters = [\n",
        "            self.weights_input_to_hidden1, self.bias_hidden1,\n",
        "            self.weights_hidden1_to_hidden2, self.bias_hidden2,\n",
        "            self.weights_hidden2_to_hidden3, self.bias_hidden3,\n",
        "            self.weights_hidden_to_output, self.bias_output\n",
        "        ]\n",
        "\n",
        "    def softmax(self, logits):\n",
        "        exp_logits = torch.exp(logits)\n",
        "        sum_exp_logits = torch.sum(exp_logits, dim=1, keepdim=True)\n",
        "        return exp_logits / sum_exp_logits\n",
        "\n",
        "    def relu(self, x):\n",
        "        return torch.max(torch.zeros_like(x), x)\n",
        "\n",
        "    def cross_entropy_loss(self, y_true, y_pred):\n",
        "        y_true = y_true.long()\n",
        "        log_probs = torch.log(self.softmax(y_pred))\n",
        "        true_class_log_probs = log_probs.gather(1, y_true.view(-1, 1))\n",
        "        loss = -true_class_log_probs.mean()\n",
        "        pred_labels = torch.argmax(y_pred, dim=1)\n",
        "        return loss, pred_labels\n",
        "\n",
        "    def Forward_propagation(self, X):\n",
        "        h1 = self.relu(X @ self.weights_input_to_hidden1 + self.bias_hidden1)\n",
        "        h2 = self.relu(h1 @ self.weights_hidden1_to_hidden2 + self.bias_hidden2)\n",
        "        h3 = self.relu(h2 @ self.weights_hidden2_to_hidden3 + self.bias_hidden3)\n",
        "        return self.softmax(h3 @ self.weights_hidden_to_output + self.bias_output)\n",
        "\n",
        "    def Backward_propagation(self, X, y, lr=0.001):\n",
        "        pred = self.Forward_propagation(X)\n",
        "        loss, pred_labels = self.cross_entropy_loss(y.long(), pred)\n",
        "        loss.backward()\n",
        "\n",
        "        with torch.no_grad():\n",
        "            for param in self.Parameters:\n",
        "                param -= lr * param.grad\n",
        "                param.grad.zero_()\n",
        "\n",
        "        return loss.item(), pred_labels\n",
        "\n",
        "    def train(self, X_train, y_train, X_test, y_test, num_epochs=5000):\n",
        "        train_losses = []\n",
        "        train_accuracies = []\n",
        "        val_accuracies = []\n",
        "\n",
        "        for epoch in range(num_epochs):\n",
        "            train_loss, pred_labels = self.Backward_propagation(X_train, y_train)\n",
        "            _, val_pred_labels = self.cross_entropy_loss(y_test.long(), self.Forward_propagation(X_test))\n",
        "\n",
        "            train_accuracy = accuracy_score(y_train.numpy(), pred_labels.numpy())\n",
        "            val_accuracy = accuracy_score(y_test.numpy(), val_pred_labels.numpy())\n",
        "\n",
        "            train_losses.append(train_loss)\n",
        "            train_accuracies.append(train_accuracy)\n",
        "            val_accuracies.append(val_accuracy)\n",
        "\n",
        "            if (epoch + 1) % 1000 == 0:\n",
        "                print(f'Epoch {epoch + 1}/{num_epochs}], Train Loss: {train_loss:.4f}, Train Accuracy: {train_accuracy:.4f}, Val Accuracy: {val_accuracy:.4f}')\n",
        "        # Print the final train accuracy\n",
        "        final_train_accuracy = train_accuracies[-1]\n",
        "        print(f'Final Train Accuracy: {final_train_accuracy:.4f}')\n",
        "\n",
        "    def test(self, X_test, y_test):\n",
        "        predictions = self.Forward_propagation(X_test)\n",
        "        loss, pred_labels = self.cross_entropy_loss(y_test, predictions)\n",
        "        accuracy = accuracy_score(y_test.numpy(), pred_labels.numpy())\n",
        "        return accuracy\n",
        "\n",
        "input_dim = dataset_class.X_train.shape[1]\n",
        "output_dim = 2\n",
        "hidden_dims = [10, 5, 15]\n",
        "model = LinearClassification(input_dim, hidden_dims, output_dim)\n",
        "\n",
        "model.train(dataset_class.X_train, dataset_class.y_train, dataset_class.X_val, dataset_class.y_val)\n",
        "test_accuracy = model.test(dataset_class.X_val, dataset_class.y_val)\n",
        "print(f'Test Accuracy: {test_accuracy:.4f}')\n"
      ],
      "metadata": {
        "colab": {
          "base_uri": "https://localhost:8080/"
        },
        "outputId": "0c380776-122e-459d-d9f5-da8b268f40c8",
        "id": "gwmbDazqeUzx"
      },
      "execution_count": null,
      "outputs": [
        {
          "output_type": "stream",
          "name": "stdout",
          "text": [
            "Epoch 1000/5000], Train Loss: 0.7104, Train Accuracy: 0.6066, Val Accuracy: 0.5614\n",
            "Epoch 2000/5000], Train Loss: 0.5539, Train Accuracy: 0.7604, Val Accuracy: 0.7895\n",
            "Epoch 3000/5000], Train Loss: 0.5209, Train Accuracy: 0.7978, Val Accuracy: 0.7895\n",
            "Epoch 4000/5000], Train Loss: 0.5116, Train Accuracy: 0.8088, Val Accuracy: 0.7895\n",
            "Epoch 5000/5000], Train Loss: 0.5084, Train Accuracy: 0.8088, Val Accuracy: 0.7895\n",
            "Final Train Accuracy: 0.8088\n",
            "Test Accuracy: 0.7895\n"
          ]
        }
      ]
    },
    {
      "cell_type": "markdown",
      "source": [
        "Fourth validation (hidden_dims = [10, 5, 15],num_epochs=500,lr=0.0001)"
      ],
      "metadata": {
        "id": "-hpbse-NesUz"
      }
    },
    {
      "cell_type": "code",
      "source": [
        "import torch\n",
        "import torch.nn.functional as F\n",
        "from sklearn.metrics import accuracy_score\n",
        "\n",
        "class LinearClassification:\n",
        "    def __init__(self, input_dim, hidden_dims, output_dim, seed=500):\n",
        "        torch.manual_seed(seed)\n",
        "\n",
        "        # Initialize weights and biases for the layers\n",
        "        self.weights_input_to_hidden1 = torch.randn(input_dim, hidden_dims[0], requires_grad=True)\n",
        "        self.bias_hidden1 = torch.zeros(hidden_dims[0], requires_grad=True)\n",
        "\n",
        "        self.weights_hidden1_to_hidden2 = torch.randn(hidden_dims[0], hidden_dims[1], requires_grad=True)\n",
        "        self.bias_hidden2 = torch.zeros(hidden_dims[1], requires_grad=True)\n",
        "\n",
        "        self.weights_hidden2_to_hidden3 = torch.randn(hidden_dims[1], hidden_dims[2], requires_grad=True)\n",
        "        self.bias_hidden3 = torch.zeros(hidden_dims[2], requires_grad=True)\n",
        "\n",
        "        self.weights_hidden_to_output = torch.randn(hidden_dims[2], output_dim, requires_grad=True)\n",
        "        self.bias_output = torch.zeros(output_dim, requires_grad=True)\n",
        "\n",
        "        self.Parameters = [\n",
        "            self.weights_input_to_hidden1, self.bias_hidden1,\n",
        "            self.weights_hidden1_to_hidden2, self.bias_hidden2,\n",
        "            self.weights_hidden2_to_hidden3, self.bias_hidden3,\n",
        "            self.weights_hidden_to_output, self.bias_output\n",
        "        ]\n",
        "\n",
        "    def softmax(self, logits):\n",
        "        exp_logits = torch.exp(logits)\n",
        "        sum_exp_logits = torch.sum(exp_logits, dim=1, keepdim=True)\n",
        "        return exp_logits / sum_exp_logits\n",
        "\n",
        "    def relu(self, x):\n",
        "        return torch.max(torch.zeros_like(x), x)\n",
        "\n",
        "    def cross_entropy_loss(self, y_true, y_pred):\n",
        "        y_true = y_true.long()\n",
        "        log_probs = torch.log(self.softmax(y_pred))\n",
        "        true_class_log_probs = log_probs.gather(1, y_true.view(-1, 1))\n",
        "        loss = -true_class_log_probs.mean()\n",
        "        pred_labels = torch.argmax(y_pred, dim=1)\n",
        "        return loss, pred_labels\n",
        "\n",
        "    def Forward_propagation(self, X):\n",
        "        h1 = self.relu(X @ self.weights_input_to_hidden1 + self.bias_hidden1)\n",
        "        h2 = self.relu(h1 @ self.weights_hidden1_to_hidden2 + self.bias_hidden2)\n",
        "        h3 = self.relu(h2 @ self.weights_hidden2_to_hidden3 + self.bias_hidden3)\n",
        "        return self.softmax(h3 @ self.weights_hidden_to_output + self.bias_output)\n",
        "\n",
        "    def Backward_propagation(self, X, y, lr=0.0001):\n",
        "        pred = self.Forward_propagation(X)\n",
        "        loss, pred_labels = self.cross_entropy_loss(y.long(), pred)\n",
        "        loss.backward()\n",
        "\n",
        "        with torch.no_grad():\n",
        "            for param in self.Parameters:\n",
        "                param -= lr * param.grad\n",
        "                param.grad.zero_()\n",
        "\n",
        "        return loss.item(), pred_labels\n",
        "\n",
        "    def train(self, X_train, y_train, X_test, y_test, num_epochs=5000):\n",
        "        train_losses = []\n",
        "        train_accuracies = []\n",
        "        val_accuracies = []\n",
        "\n",
        "        for epoch in range(num_epochs):\n",
        "            train_loss, pred_labels = self.Backward_propagation(X_train, y_train)\n",
        "            _, val_pred_labels = self.cross_entropy_loss(y_test.long(), self.Forward_propagation(X_test))\n",
        "\n",
        "            train_accuracy = accuracy_score(y_train.numpy(), pred_labels.numpy())\n",
        "            val_accuracy = accuracy_score(y_test.numpy(), val_pred_labels.numpy())\n",
        "\n",
        "            train_losses.append(train_loss)\n",
        "            train_accuracies.append(train_accuracy)\n",
        "            val_accuracies.append(val_accuracy)\n",
        "\n",
        "            if (epoch + 1) % 1000 == 0:\n",
        "                print(f'Epoch {epoch + 1}/{num_epochs}], Train Loss: {train_loss:.4f}, Train Accuracy: {train_accuracy:.4f}, Val Accuracy: {val_accuracy:.4f}')\n",
        "        # Print the final train accuracy\n",
        "        final_train_accuracy = train_accuracies[-1]\n",
        "        print(f'Final Train Accuracy: {final_train_accuracy:.4f}')\n",
        "\n",
        "    def test(self, X_test, y_test):\n",
        "        predictions = self.Forward_propagation(X_test)\n",
        "        loss, pred_labels = self.cross_entropy_loss(y_test, predictions)\n",
        "        accuracy = accuracy_score(y_test.numpy(), pred_labels.numpy())\n",
        "        return accuracy\n",
        "\n",
        "input_dim = dataset_class.X_train.shape[1]\n",
        "output_dim = 2\n",
        "hidden_dims = [10, 5, 15]\n",
        "model = LinearClassification(input_dim, hidden_dims, output_dim)\n",
        "\n",
        "model.train(dataset_class.X_train, dataset_class.y_train, dataset_class.X_val, dataset_class.y_val)\n",
        "test_accuracy = model.test(dataset_class.X_val, dataset_class.y_val)\n",
        "print(f'Test Accuracy: {test_accuracy:.4f}')"
      ],
      "metadata": {
        "colab": {
          "base_uri": "https://localhost:8080/"
        },
        "outputId": "06beaae4-bea8-4d6a-ef6c-68656a928ac0",
        "id": "uUI3XW3BesUz"
      },
      "execution_count": null,
      "outputs": [
        {
          "output_type": "stream",
          "name": "stdout",
          "text": [
            "Epoch 1000/5000], Train Loss: 0.7960, Train Accuracy: 0.5209, Val Accuracy: 0.4211\n",
            "Epoch 2000/5000], Train Loss: 0.7883, Train Accuracy: 0.5297, Val Accuracy: 0.4211\n",
            "Epoch 3000/5000], Train Loss: 0.7777, Train Accuracy: 0.5429, Val Accuracy: 0.4386\n",
            "Epoch 4000/5000], Train Loss: 0.7678, Train Accuracy: 0.5538, Val Accuracy: 0.4561\n",
            "Epoch 5000/5000], Train Loss: 0.7593, Train Accuracy: 0.5604, Val Accuracy: 0.4737\n",
            "Final Train Accuracy: 0.5604\n",
            "Test Accuracy: 0.4737\n"
          ]
        }
      ]
    },
    {
      "cell_type": "markdown",
      "source": [
        "Fifth validation (hidden_dims = [5,5,5,5],num_epochs=5000,lr=0.001)"
      ],
      "metadata": {
        "id": "30YtyEtX1gy1"
      }
    },
    {
      "cell_type": "code",
      "source": [
        "import torch\n",
        "import torch.nn.functional as F\n",
        "from sklearn.metrics import accuracy_score\n",
        "\n",
        "class LinearClassification:\n",
        "    def __init__(self, input_dim, hidden_dims, output_dim, seed=500):\n",
        "        torch.manual_seed(seed)\n",
        "\n",
        "        # Initialize weights and biases for the layers\n",
        "        self.weights_input_to_hidden1 = torch.randn(input_dim, hidden_dims[0], requires_grad=True)\n",
        "        self.bias_hidden1 = torch.zeros(hidden_dims[0], requires_grad=True)\n",
        "\n",
        "        self.weights_hidden1_to_hidden2 = torch.randn(hidden_dims[0], hidden_dims[1], requires_grad=True)\n",
        "        self.bias_hidden2 = torch.zeros(hidden_dims[1], requires_grad=True)\n",
        "\n",
        "        self.weights_hidden2_to_hidden3 = torch.randn(hidden_dims[1], hidden_dims[2], requires_grad=True)\n",
        "        self.bias_hidden3 = torch.zeros(hidden_dims[2], requires_grad=True)\n",
        "\n",
        "        self.weights_hidden3_to_hidden4 = torch.randn(hidden_dims[2], hidden_dims[3], requires_grad=True)\n",
        "        self.bias_hidden4 = torch.zeros(hidden_dims[3], requires_grad=True)\n",
        "\n",
        "        self.weights_hidden_to_output = torch.randn(hidden_dims[3], output_dim, requires_grad=True)\n",
        "        self.bias_output = torch.zeros(output_dim, requires_grad=True)\n",
        "\n",
        "        self.Parameters = [\n",
        "            self.weights_input_to_hidden1, self.bias_hidden1,\n",
        "            self.weights_hidden1_to_hidden2, self.bias_hidden2,\n",
        "            self.weights_hidden2_to_hidden3, self.bias_hidden3,\n",
        "            self.weights_hidden3_to_hidden4, self.bias_hidden4,\n",
        "            self.weights_hidden_to_output, self.bias_output\n",
        "        ]\n",
        "\n",
        "    def softmax(self, logits):\n",
        "        exp_logits = torch.exp(logits)\n",
        "        sum_exp_logits = torch.sum(exp_logits, dim=1, keepdim=True)\n",
        "        return exp_logits / sum_exp_logits\n",
        "\n",
        "    def relu(self, x):\n",
        "        return torch.max(torch.zeros_like(x), x)\n",
        "\n",
        "    def cross_entropy_loss(self, y_true, y_pred):\n",
        "        y_true = y_true.long()\n",
        "        log_probs = torch.log(self.softmax(y_pred))\n",
        "        true_class_log_probs = log_probs.gather(1, y_true.view(-1, 1))\n",
        "        loss = -true_class_log_probs.mean()\n",
        "        pred_labels = torch.argmax(y_pred, dim=1)\n",
        "        return loss, pred_labels\n",
        "\n",
        "    def Forward_propagation(self, X):\n",
        "        h1 = self.relu(X @ self.weights_input_to_hidden1 + self.bias_hidden1)\n",
        "        h2 = self.relu(h1 @ self.weights_hidden1_to_hidden2 + self.bias_hidden2)\n",
        "        h3 = self.relu(h2 @ self.weights_hidden2_to_hidden3 + self.bias_hidden3)\n",
        "        h4 = self.relu(h3 @ self.weights_hidden3_to_hidden4 + self.bias_hidden4)\n",
        "        return self.softmax(h4 @ self.weights_hidden_to_output + self.bias_output)\n",
        "\n",
        "    def Backward_propagation(self, X, y, lr=0.001):\n",
        "        pred = self.Forward_propagation(X)\n",
        "        loss, pred_labels = self.cross_entropy_loss(y.long(), pred)\n",
        "        loss.backward()\n",
        "\n",
        "        with torch.no_grad():\n",
        "            for param in self.Parameters:\n",
        "                param -= lr * param.grad\n",
        "                param.grad.zero_()\n",
        "\n",
        "        return loss.item(), pred_labels\n",
        "\n",
        "    def train(self, X_train, y_train, X_test, y_test, num_epochs=5000):\n",
        "        train_losses = []\n",
        "        train_accuracies = []\n",
        "        val_accuracies = []\n",
        "\n",
        "        for epoch in range(num_epochs):\n",
        "            train_loss, pred_labels = self.Backward_propagation(X_train, y_train)\n",
        "            _, val_pred_labels = self.cross_entropy_loss(y_test.long(), self.Forward_propagation(X_test))\n",
        "\n",
        "            train_accuracy = accuracy_score(y_train.numpy(), pred_labels.numpy())\n",
        "            val_accuracy = accuracy_score(y_test.numpy(), val_pred_labels.numpy())\n",
        "\n",
        "            train_losses.append(train_loss)\n",
        "            train_accuracies.append(train_accuracy)\n",
        "            val_accuracies.append(val_accuracy)\n",
        "\n",
        "            if (epoch + 1) % 1000 == 0:\n",
        "                print(f'Epoch {epoch + 1}/{num_epochs}], Train Loss: {train_loss:.4f}, Train Accuracy: {train_accuracy:.4f}, Val Accuracy: {val_accuracy:.4f}')\n",
        "        # Print the final train accuracy\n",
        "        final_train_accuracy = train_accuracies[-1]\n",
        "        print(f'Final Train Accuracy: {final_train_accuracy:.4f}')\n",
        "\n",
        "    def test(self, X_test, y_test):\n",
        "        predictions = self.Forward_propagation(X_test)\n",
        "        loss, pred_labels = self.cross_entropy_loss(y_test, predictions)\n",
        "        accuracy = accuracy_score(y_test.numpy(), pred_labels.numpy())\n",
        "        return accuracy\n",
        "\n",
        "input_dim = dataset_class.X_train.shape[1]\n",
        "output_dim = 2\n",
        "hidden_dims = [5, 5, 5,5]\n",
        "model = LinearClassification(input_dim, hidden_dims, output_dim)\n",
        "\n",
        "model.train(dataset_class.X_train, dataset_class.y_train, dataset_class.X_val, dataset_class.y_val)\n",
        "test_accuracy = model.test(dataset_class.X_val, dataset_class.y_val)\n",
        "print(f'Test Accuracy: {test_accuracy:.4f}')"
      ],
      "metadata": {
        "colab": {
          "base_uri": "https://localhost:8080/"
        },
        "id": "QINtU1qU1eRY",
        "outputId": "73752ca0-247d-4ef8-ade8-c26bb802b607"
      },
      "execution_count": null,
      "outputs": [
        {
          "output_type": "stream",
          "name": "stdout",
          "text": [
            "Epoch 1000/5000], Train Loss: 0.5777, Train Accuracy: 0.8176, Val Accuracy: 0.9123\n",
            "Epoch 2000/5000], Train Loss: 0.5306, Train Accuracy: 0.8242, Val Accuracy: 0.8947\n",
            "Epoch 3000/5000], Train Loss: 0.5000, Train Accuracy: 0.8549, Val Accuracy: 0.9123\n",
            "Epoch 4000/5000], Train Loss: 0.4793, Train Accuracy: 0.8747, Val Accuracy: 0.9123\n",
            "Epoch 5000/5000], Train Loss: 0.4663, Train Accuracy: 0.8769, Val Accuracy: 0.9123\n",
            "Final Train Accuracy: 0.8769\n",
            "Test Accuracy: 0.9123\n"
          ]
        }
      ]
    },
    {
      "cell_type": "markdown",
      "metadata": {
        "id": "9rDl5cyk5jxa"
      },
      "source": [
        "# **implementation of MLP network from scratch On test Set**"
      ]
    },
    {
      "cell_type": "code",
      "source": [
        "import matplotlib.pyplot as plt\n",
        "from sklearn.metrics import confusion_matrix\n",
        "\n",
        "class LinearClassification:\n",
        "    def __init__(self, input_dim, hidden_dims, output_dim, seed=500):\n",
        "        torch.manual_seed(seed)\n",
        "\n",
        "        self.weights_input_to_hidden1 = torch.randn(input_dim, hidden_dims[0], requires_grad=True)\n",
        "        self.bias_hidden1 = torch.zeros(hidden_dims[0], requires_grad=True)\n",
        "\n",
        "        self.weights_hidden1_to_hidden2 = torch.randn(hidden_dims[0], hidden_dims[1], requires_grad=True)\n",
        "        self.bias_hidden2 = torch.zeros(hidden_dims[1], requires_grad=True)\n",
        "\n",
        "        self.weights_hidden_to_output = torch.randn(hidden_dims[1], output_dim, requires_grad=True)\n",
        "        self.bias_output = torch.zeros(output_dim, requires_grad=True)\n",
        "\n",
        "        self.Parameters = [self.weights_input_to_hidden1, self.bias_hidden1,\n",
        "                           self.weights_hidden1_to_hidden2, self.bias_hidden2,\n",
        "                           self.weights_hidden_to_output, self.bias_output]\n",
        "\n",
        "    def softmax(self, logits):\n",
        "        exp_logits = torch.exp(logits)\n",
        "        sum_exp_logits = torch.sum(exp_logits, dim=1, keepdim=True)\n",
        "        return exp_logits / sum_exp_logits\n",
        "\n",
        "    def relu(self, x):\n",
        "        return torch.max(torch.zeros_like(x), x)\n",
        "\n",
        "    def cross_entropy_loss(self, y_true, y_pred):\n",
        "        y_true = y_true.long()\n",
        "\n",
        "        log_probs = torch.log(self.softmax(y_pred))\n",
        "        true_class_log_probs = log_probs.gather(1, y_true.view(-1, 1))\n",
        "        loss = -true_class_log_probs.mean()\n",
        "\n",
        "        pred_labels = torch.argmax(y_pred, dim=1)\n",
        "\n",
        "        return loss, pred_labels\n",
        "\n",
        "    def Forward_propagation(self, X):\n",
        "        h1 = self.relu(X @ self.weights_input_to_hidden1 + self.bias_hidden1)\n",
        "        h2 = self.relu(h1 @ self.weights_hidden1_to_hidden2 + self.bias_hidden2)\n",
        "        return self.softmax(h2 @ self.weights_hidden_to_output + self.bias_output)\n",
        "\n",
        "    def Backward_propagation(self, X, y, lr=0.01):\n",
        "        pred = self.Forward_propagation(X)\n",
        "        loss, pred_labels = self.cross_entropy_loss(y.long(), pred)\n",
        "        loss.backward()\n",
        "\n",
        "        with torch.no_grad():\n",
        "            for param in self.Parameters:\n",
        "                param -= lr * param.grad\n",
        "\n",
        "                # Zero gradients after update\n",
        "                param.grad.zero_()\n",
        "\n",
        "        return loss.item(), pred_labels\n",
        "\n",
        "    def train(self,X_test, y_test, X_val, y_val, num_epochs=5000):\n",
        "      self.true_labels = y_val\n",
        "      for epoch in range(num_epochs):\n",
        "        train_loss, pred_labels = self.Backward_propagation(X_test, y_test)\n",
        "        test_predictions = self.Forward_propagation(X_val)\n",
        "        _, test_pred_labels = self.cross_entropy_loss(y_val.long(), test_predictions)\n",
        "\n",
        "        train_accuracy = accuracy_score(y_test.numpy(), pred_labels.numpy())\n",
        "        test_accuracy = accuracy_score(y_val.numpy(), test_pred_labels.numpy())\n",
        "\n",
        "        self.final_pred_labels = test_pred_labels\n",
        "\n",
        "        if (epoch + 1) % 1000 == 0:\n",
        "          print(f'Epoch {epoch + 1}/{num_epochs}], Train Loss: {train_loss:.4f}, Train Accuracy: {train_accuracy:.4f}, Test Accuracy: {test_accuracy:.4f}')\n",
        "\n",
        "    def test(self, X_val, y_val):\n",
        "        predictions = self.Forward_propagation(X_val)\n",
        "        loss, pred_labels = self.cross_entropy_loss(y_val, predictions)\n",
        "        self.final_pred_labels = pred_labels\n",
        "        accuracy = accuracy_score(y_val.numpy(), pred_labels.numpy())\n",
        "        return accuracy\n",
        "\n",
        "input_dim = dataset_class.X_train.shape[1]\n",
        "output_dim = 2\n",
        "hidden_dims = [10, 5]\n",
        "model = LinearClassification(input_dim, hidden_dims, output_dim)\n",
        "\n",
        "model.train(dataset_class.X_train, dataset_class.y_train, dataset_class.X_test, dataset_class.y_test)\n",
        "test_accuracy = model.test(dataset_class.X_test, dataset_class.y_test)\n",
        "print(f'Test Accuracy: {test_accuracy:.4f}')\n",
        "\n",
        "conf_matrix = confusion_matrix(model.true_labels.numpy(), model.final_pred_labels.numpy())"
      ],
      "metadata": {
        "colab": {
          "base_uri": "https://localhost:8080/"
        },
        "outputId": "a5207153-69d6-4af7-bd15-feb5d8803dbf",
        "id": "ytf6DsD3KCir"
      },
      "execution_count": null,
      "outputs": [
        {
          "output_type": "stream",
          "name": "stdout",
          "text": [
            "Epoch 1000/5000], Train Loss: 0.5528, Train Accuracy: 0.7868, Test Accuracy: 0.7193\n",
            "Epoch 2000/5000], Train Loss: 0.4983, Train Accuracy: 0.8374, Test Accuracy: 0.8246\n",
            "Epoch 3000/5000], Train Loss: 0.4671, Train Accuracy: 0.8593, Test Accuracy: 0.8421\n",
            "Epoch 4000/5000], Train Loss: 0.4165, Train Accuracy: 0.9055, Test Accuracy: 0.8947\n",
            "Epoch 5000/5000], Train Loss: 0.3999, Train Accuracy: 0.9187, Test Accuracy: 0.8947\n",
            "Test Accuracy: 0.8947\n"
          ]
        }
      ]
    },
    {
      "cell_type": "code",
      "source": [
        "import numpy as np\n",
        "from sklearn.metrics import precision_score, recall_score, f1_score\n",
        "precision = precision_score(model.true_labels.numpy(), model.final_pred_labels.numpy())\n",
        "recall = recall_score(model.true_labels.numpy(), model.final_pred_labels.numpy())\n",
        "f1 = f1_score(model.true_labels.numpy(), model.final_pred_labels.numpy())\n",
        "print(f'Precision: {precision:.4f}')\n",
        "print(f'Recall: {recall:.4f}')\n",
        "print(f'F1-score: {f1:.4f}')\n"
      ],
      "metadata": {
        "colab": {
          "base_uri": "https://localhost:8080/"
        },
        "id": "_19C2B84aJNz",
        "outputId": "62bda929-2e61-467e-84d1-53831649c903"
      },
      "execution_count": null,
      "outputs": [
        {
          "output_type": "stream",
          "name": "stdout",
          "text": [
            "Precision: 0.9200\n",
            "Recall: 0.8519\n",
            "F1-score: 0.8846\n"
          ]
        }
      ]
    },
    {
      "cell_type": "code",
      "source": [
        "# confusion matrix\n",
        "plt.imshow(conf_matrix, interpolation='nearest', cmap=plt.cm.Blues)\n",
        "plt.title('Confusion Matrix')\n",
        "plt.colorbar()\n",
        "\n",
        "#labels\n",
        "classes = ['Negative', 'Positive']\n",
        "tick_marks = np.arange(len(classes))\n",
        "plt.xticks(tick_marks, classes)\n",
        "plt.yticks(tick_marks, classes)\n",
        "\n",
        "#text annotations\n",
        "thresh = conf_matrix.max() / 2.\n",
        "for i in range(conf_matrix.shape[0]):\n",
        "    for j in range(conf_matrix.shape[1]):\n",
        "        plt.text(j, i, format(conf_matrix[i, j], 'd'),\n",
        "                 horizontalalignment=\"center\",\n",
        "                 color=\"white\" if conf_matrix[i, j] > thresh else \"black\")\n",
        "\n",
        "plt.xlabel('Predicted label')\n",
        "plt.ylabel('True label')\n",
        "plt.tight_layout()\n",
        "plt.show()"
      ],
      "metadata": {
        "colab": {
          "base_uri": "https://localhost:8080/"
        },
        "id": "_gmo3qLbPNDD",
        "outputId": "4293f507-3348-44e5-faae-c390181e634f"
      },
      "execution_count": null,
      "outputs": [
        {
          "output_type": "display_data",
          "data": {
            "text/plain": [
              "<Figure size 640x480 with 2 Axes>"
            ],
            "image/png": "[encoded data removed]"
          },
          "metadata": {}
        }
      ]
    },
    {
      "cell_type": "markdown",
      "metadata": {
        "id": "_vME3aST646o"
      },
      "source": [
        "# **implementation of MLP network using NN**"
      ]
    },
    {
      "cell_type": "code",
      "source": [
        "# SimpleNN class\n",
        "class SimpleNN(nn.Module):\n",
        "    def __init__(self, input_size, hidden_size_1, hidden_size_2, output_size):\n",
        "        super(SimpleNN, self).__init__()\n",
        "        self.fc1 = nn.Linear(input_size, hidden_size_1)\n",
        "        self.relu = nn.ReLU()\n",
        "        self.fc2 = nn.Linear(hidden_size_1, hidden_size_2)\n",
        "        self.relu = nn.ReLU()\n",
        "        self.fc3 = nn.Linear(hidden_size_2, output_size)\n",
        "        self.sigmoid = nn.Sigmoid()\n",
        "\n",
        "    def forward(self, x):\n",
        "        x = self.fc1(x)\n",
        "        x = self.relu(x)\n",
        "        x = self.fc2(x)\n",
        "        x = self.relu(x)\n",
        "        x = self.fc3(x)\n",
        "        x = self.sigmoid(x)\n",
        "        return x\n",
        "\n",
        "\n",
        "input_size = dataset_class.X_train.shape[1]\n",
        "hidden_size_1 = 10\n",
        "hidden_size_2 = 5\n",
        "output_size = 1\n",
        "\n",
        "simple_nn_model = SimpleNN(input_size, hidden_size_1, hidden_size_2, output_size)\n",
        "num_epochs = 5000\n",
        "optimizer_simple_nn = optim.Adam(simple_nn_model.parameters(), lr=0.01)\n",
        "criterion_simple_nn = nn.BCELoss()\n",
        "\n",
        "# Reshape\n",
        "y_train = dataset_class.y_train.view(-1, 1)\n",
        "y_test = dataset_class.y_test.view(-1, 1)\n",
        "\n",
        "# Training\n",
        "print(\"\\nTraining Simple Neural Network:\")\n",
        "for epoch in range(num_epochs):\n",
        "    simple_nn_model.train()\n",
        "    optimizer_simple_nn.zero_grad()\n",
        "    outputs = simple_nn_model(dataset_class.X_train)\n",
        "    loss = criterion_simple_nn(outputs, y_train.float())\n",
        "    loss.backward()\n",
        "    optimizer_simple_nn.step()\n",
        "\n",
        "# Evaluate\n",
        "simple_nn_model.eval()\n",
        "with torch.no_grad():\n",
        "    outputs_test = simple_nn_model(dataset_class.X_test)\n",
        "    preds_test = (outputs_test > 0.5).float()\n",
        "    nn_accuracy_test = accuracy_score(dataset_class.y_test.numpy(), preds_test.numpy())\n",
        "    nn_precision_test = precision_score(dataset_class.y_test.numpy(), preds_test.numpy())\n",
        "    nn_recall_test = recall_score(dataset_class.y_test.numpy(), preds_test.numpy())\n",
        "    nn_f1_test = f1_score(dataset_class.y_test.numpy(), preds_test.numpy())\n",
        "\n",
        "print(f\"Accuracy of the Simple Neural Network on the test data: {nn_accuracy_test:.4f}\")\n",
        "print(f\"Precision of the Simple Neural Network on the test data: {nn_precision_test:.4f}\")\n",
        "print(f\"Recall of the Simple Neural Network on the test data: {nn_recall_test:.4f}\")\n",
        "print(f\"F1-Score of the Simple Neural Network on the test data: {nn_f1_test:.4f}\")"
      ],
      "metadata": {
        "colab": {
          "base_uri": "https://localhost:8080/"
        },
        "id": "wi3Qv9mu0ZOu",
        "outputId": "296c5c11-5016-4078-ebf2-67d6482a1f97"
      },
      "execution_count": null,
      "outputs": [
        {
          "output_type": "stream",
          "name": "stdout",
          "text": [
            "\n",
            "Training Simple Neural Network:\n",
            "Accuracy of the Simple Neural Network on the test data: 0.9649\n",
            "Precision of the Simple Neural Network on the test data: 1.0000\n",
            "Recall of the Simple Neural Network on the test data: 0.9259\n",
            "F1-Score of the Simple Neural Network on the test data: 0.9615\n"
          ]
        }
      ]
    }
  ]
}